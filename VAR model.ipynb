{
 "cells": [
  {
   "cell_type": "markdown",
   "id": "34247316",
   "metadata": {},
   "source": [
    "# Youtube PHD"
   ]
  },
  {
   "cell_type": "code",
   "execution_count": 13,
   "id": "dbda3ec9",
   "metadata": {},
   "outputs": [],
   "source": [
    "library(pacman)\n",
    "p_load(quantmod,vars)"
   ]
  },
  {
   "cell_type": "code",
   "execution_count": 14,
   "id": "7575a10f",
   "metadata": {},
   "outputs": [
    {
     "data": {
      "text/html": [
       "'MEXB6BLTT02STSAQ'"
      ],
      "text/latex": [
       "'MEXB6BLTT02STSAQ'"
      ],
      "text/markdown": [
       "'MEXB6BLTT02STSAQ'"
      ],
      "text/plain": [
       "[1] \"MEXB6BLTT02STSAQ\""
      ]
     },
     "metadata": {},
     "output_type": "display_data"
    },
    {
     "data": {
      "text/html": [
       "-1.52606946414416"
      ],
      "text/latex": [
       "-1.52606946414416"
      ],
      "text/markdown": [
       "-1.52606946414416"
      ],
      "text/plain": [
       "[1] -1.526069"
      ]
     },
     "metadata": {},
     "output_type": "display_data"
    }
   ],
   "source": [
    "library(quantmod)\n",
    "#CA as share of GDP, but Reserves in dollars\n",
    "#Need to get MX GDP in dollars\n",
    "#Get NGDP in pesos and exchange rate\n",
    "setDefaults(getSymbols,src='FRED')\n",
    "getSymbols(\"MEXB6BLTT02STSAQ\",src='FRED')\n",
    "###I now added code to truncate each series to match the video!\n",
    "MEXB6BLTT02STSAQ=MEXB6BLTT02STSAQ[\"/2019-10-01\"]\n",
    "CA<-ts(MEXB6BLTT02STSAQ,end=c(2019,4),freq=4)\n",
    "mean(CA)"
   ]
  },
  {
   "cell_type": "code",
   "execution_count": 3,
   "id": "d3a565ce",
   "metadata": {},
   "outputs": [
    {
     "data": {
      "text/html": [
       "'MEXGDPNQDSMEI'"
      ],
      "text/latex": [
       "'MEXGDPNQDSMEI'"
      ],
      "text/markdown": [
       "'MEXGDPNQDSMEI'"
      ],
      "text/plain": [
       "[1] \"MEXGDPNQDSMEI\""
      ]
     },
     "metadata": {},
     "output_type": "display_data"
    },
    {
     "data": {
      "text/html": [
       "'CCUSMA02MXQ618N'"
      ],
      "text/latex": [
       "'CCUSMA02MXQ618N'"
      ],
      "text/markdown": [
       "'CCUSMA02MXQ618N'"
      ],
      "text/plain": [
       "[1] \"CCUSMA02MXQ618N\""
      ]
     },
     "metadata": {},
     "output_type": "display_data"
    }
   ],
   "source": [
    "getSymbols(\"MEXGDPNQDSMEI\",src='FRED')\n",
    "MEXGDPNQDSMEI=MEXGDPNQDSMEI[\"/2019-10-01\"]\n",
    "NGDP<-ts(MEXGDPNQDSMEI,end=c(2019,4),freq=4)\n",
    "\n",
    "getSymbols(\"CCUSMA02MXQ618N\",src='FRED')\n",
    "CCUSMA02MXQ618N=CCUSMA02MXQ618N[\"/2020-01-01\"]\n",
    "MXNUSD<-ts(CCUSMA02MXQ618N,end=c(2020,1),freq=4)\n",
    "NGDPUSD<-NGDP/MXNUSD"
   ]
  },
  {
   "cell_type": "code",
   "execution_count": 4,
   "id": "7678f2a2",
   "metadata": {},
   "outputs": [
    {
     "data": {
      "text/html": [
       "'MEXB6FARA01CXCUQ'"
      ],
      "text/latex": [
       "'MEXB6FARA01CXCUQ'"
      ],
      "text/markdown": [
       "'MEXB6FARA01CXCUQ'"
      ],
      "text/plain": [
       "[1] \"MEXB6FARA01CXCUQ\""
      ]
     },
     "metadata": {},
     "output_type": "display_data"
    },
    {
     "data": {
      "text/html": [
       "-0.00547929277904471"
      ],
      "text/latex": [
       "-0.00547929277904471"
      ],
      "text/markdown": [
       "-0.00547929277904471"
      ],
      "text/plain": [
       "[1] -0.005479293"
      ]
     },
     "metadata": {},
     "output_type": "display_data"
    },
    {
     "data": {
      "text/html": [
       "1.54414996269748"
      ],
      "text/latex": [
       "1.54414996269748"
      ],
      "text/markdown": [
       "1.54414996269748"
      ],
      "text/plain": [
       "[1] 1.54415"
      ]
     },
     "metadata": {},
     "output_type": "display_data"
    }
   ],
   "source": [
    "#KFA = diff(Reserves) - CA\n",
    "getSymbols(\"MEXB6FARA01CXCUQ\",src='FRED')\n",
    "MEXB6FARA01CXCUQ=MEXB6FARA01CXCUQ[\"/2019-10-01\"]\n",
    "RES<-ts(MEXB6FARA01CXCUQ,end=c(2019,4),freq=4)\n",
    "KFA<-(100*diff(RES)/NGDPUSD-CA)\n",
    "mean(100*diff(RES)/NGDPUSD)\n",
    "mean(KFA)"
   ]
  },
  {
   "cell_type": "code",
   "execution_count": 5,
   "id": "811e20ef",
   "metadata": {},
   "outputs": [
    {
     "data": {
      "text/html": [
       "'MANMM101MXQ189S'"
      ],
      "text/latex": [
       "'MANMM101MXQ189S'"
      ],
      "text/markdown": [
       "'MANMM101MXQ189S'"
      ],
      "text/plain": [
       "[1] \"MANMM101MXQ189S\""
      ]
     },
     "metadata": {},
     "output_type": "display_data"
    },
    {
     "data": {
      "text/html": [
       "'BOGZ1FL072052006Q'"
      ],
      "text/latex": [
       "'BOGZ1FL072052006Q'"
      ],
      "text/markdown": [
       "'BOGZ1FL072052006Q'"
      ],
      "text/plain": [
       "[1] \"BOGZ1FL072052006Q\""
      ]
     },
     "metadata": {},
     "output_type": "display_data"
    },
    {
     "data": {
      "text/html": [
       "'GDPC1'"
      ],
      "text/latex": [
       "'GDPC1'"
      ],
      "text/markdown": [
       "'GDPC1'"
      ],
      "text/plain": [
       "[1] \"GDPC1\""
      ]
     },
     "metadata": {},
     "output_type": "display_data"
    },
    {
     "data": {
      "text/html": [
       "'NAEXKP01MXQ189S'"
      ],
      "text/latex": [
       "'NAEXKP01MXQ189S'"
      ],
      "text/markdown": [
       "'NAEXKP01MXQ189S'"
      ],
      "text/plain": [
       "[1] \"NAEXKP01MXQ189S\""
      ]
     },
     "metadata": {},
     "output_type": "display_data"
    }
   ],
   "source": [
    "getSymbols(\"MANMM101MXQ189S\",src='FRED')\n",
    "MANMM101MXQ189S=MANMM101MXQ189S[\"/2018-10-01\"]\n",
    "MXM1<-ts(MANMM101MXQ189S,end=c(2018,4),freq=4)\n",
    "\n",
    "getSymbols(\"BOGZ1FL072052006Q\",src='FRED')  \n",
    "BOGZ1FL072052006Q=BOGZ1FL072052006Q[\"/2019-10-01\"]\n",
    "USR<-ts(BOGZ1FL072052006Q,end=c(2019,4),freq=4)\n",
    "\n",
    "getSymbols(\"GDPC1\",src='FRED') \n",
    "GDPC1=GDPC1[\"/2020-01-01\"]\n",
    "USY<-ts(GDPC1,end=c(2020,1),freq=4)\n",
    "\n",
    "getSymbols(\"NAEXKP01MXQ189S\",src='FRED')   \n",
    "NAEXKP01MXQ189S=NAEXKP01MXQ189S[\"/2019-10-01\"]\n",
    "MXY<-ts(NAEXKP01MXQ189S,end=c(2019,4),freq=4)"
   ]
  },
  {
   "cell_type": "code",
   "execution_count": 6,
   "id": "bd80e39b",
   "metadata": {},
   "outputs": [
    {
     "data": {
      "image/png": "[encoded data removed]",
      "text/plain": [
       "plot without title"
      ]
     },
     "metadata": {
      "image/png": {
       "height": 420,
       "width": 420
      }
     },
     "output_type": "display_data"
    },
    {
     "data": {
      "text/html": [
       "<style>\n",
       ".list-inline {list-style: none; margin:0; padding: 0}\n",
       ".list-inline>li {display: inline-block}\n",
       ".list-inline>li:not(:last-child)::after {content: \"\\00b7\"; padding: 0 .5ex}\n",
       "</style>\n",
       "<ol class=list-inline><li>51</li><li>5</li></ol>\n"
      ],
      "text/latex": [
       "\\begin{enumerate*}\n",
       "\\item 51\n",
       "\\item 5\n",
       "\\end{enumerate*}\n"
      ],
      "text/markdown": [
       "1. 51\n",
       "2. 5\n",
       "\n",
       "\n"
      ],
      "text/plain": [
       "[1] 51  5"
      ]
     },
     "metadata": {},
     "output_type": "display_data"
    },
    {
     "data": {
      "image/png": "[encoded data removed]",
      "text/plain": [
       "plot without title"
      ]
     },
     "metadata": {
      "image/png": {
       "height": 420,
       "width": 420
      }
     },
     "output_type": "display_data"
    }
   ],
   "source": [
    "#Take logs of 3 variables\n",
    "#Combine; notice different lengths\n",
    "data<-cbind(log(USY),log(USR),log(MXY),log(MXM1),KFA)\n",
    "names<-c(\"USY\",\"USR\",\"MXY\",\"MXM1\",\"KFA\")\n",
    "colnames(data)<-names\n",
    "plot(data)\n",
    "data<-na.omit(data)\n",
    "plot(data)\n",
    "dim(data)"
   ]
  },
  {
   "cell_type": "code",
   "execution_count": 7,
   "id": "f47c854c",
   "metadata": {},
   "outputs": [
    {
     "data": {
      "text/html": [
       "<table class=\"dataframe\">\n",
       "<caption>A matrix: 5 × 1 of type dbl</caption>\n",
       "<tbody>\n",
       "\t<tr><td>0.7745719</td></tr>\n",
       "\t<tr><td>0.9595579</td></tr>\n",
       "\t<tr><td>0.4892190</td></tr>\n",
       "\t<tr><td>0.4010632</td></tr>\n",
       "\t<tr><td>0.0100000</td></tr>\n",
       "</tbody>\n",
       "</table>\n"
      ],
      "text/latex": [
       "A matrix: 5 × 1 of type dbl\n",
       "\\begin{tabular}{l}\n",
       "\t 0.7745719\\\\\n",
       "\t 0.9595579\\\\\n",
       "\t 0.4892190\\\\\n",
       "\t 0.4010632\\\\\n",
       "\t 0.0100000\\\\\n",
       "\\end{tabular}\n"
      ],
      "text/markdown": [
       "\n",
       "A matrix: 5 × 1 of type dbl\n",
       "\n",
       "| 0.7745719 |\n",
       "| 0.9595579 |\n",
       "| 0.4892190 |\n",
       "| 0.4010632 |\n",
       "| 0.0100000 |\n",
       "\n"
      ],
      "text/plain": [
       "     [,1]     \n",
       "[1,] 0.7745719\n",
       "[2,] 0.9595579\n",
       "[3,] 0.4892190\n",
       "[4,] 0.4010632\n",
       "[5,] 0.0100000"
      ]
     },
     "metadata": {},
     "output_type": "display_data"
    }
   ],
   "source": [
    "#Here: 51 Quarters, 2006-2018\n",
    "\n",
    "#Phillips-Perron stationarity test\n",
    "pptab<-NULL\n",
    "for(i in 1:ncol(data)){\n",
    "pp<-PP.test(data[,i])\n",
    "pptab<-rbind(pptab,pp$p.value)\n",
    "}\n",
    "pptab"
   ]
  },
  {
   "cell_type": "code",
   "execution_count": 8,
   "id": "d2e2b1f7",
   "metadata": {},
   "outputs": [
    {
     "data": {
      "text/html": [
       "<table class=\"dataframe\">\n",
       "<caption>A matrix: 5 × 1 of type dbl</caption>\n",
       "<tbody>\n",
       "\t<tr><td>0.01</td></tr>\n",
       "\t<tr><td>0.01</td></tr>\n",
       "\t<tr><td>0.01</td></tr>\n",
       "\t<tr><td>0.01</td></tr>\n",
       "\t<tr><td>0.01</td></tr>\n",
       "</tbody>\n",
       "</table>\n"
      ],
      "text/latex": [
       "A matrix: 5 × 1 of type dbl\n",
       "\\begin{tabular}{l}\n",
       "\t 0.01\\\\\n",
       "\t 0.01\\\\\n",
       "\t 0.01\\\\\n",
       "\t 0.01\\\\\n",
       "\t 0.01\\\\\n",
       "\\end{tabular}\n"
      ],
      "text/markdown": [
       "\n",
       "A matrix: 5 × 1 of type dbl\n",
       "\n",
       "| 0.01 |\n",
       "| 0.01 |\n",
       "| 0.01 |\n",
       "| 0.01 |\n",
       "| 0.01 |\n",
       "\n"
      ],
      "text/plain": [
       "     [,1]\n",
       "[1,] 0.01\n",
       "[2,] 0.01\n",
       "[3,] 0.01\n",
       "[4,] 0.01\n",
       "[5,] 0.01"
      ]
     },
     "metadata": {},
     "output_type": "display_data"
    }
   ],
   "source": [
    "#redo with differences\n",
    "data<-cbind(diff(log(USY)),diff(USR),diff(log(MXY)),diff(log(MXM1)),KFA)\n",
    "data<-na.omit(data)\n",
    "colnames(data)<-names\n",
    "\n",
    "pptab<-NULL\n",
    "for(i in 1:ncol(data)){\n",
    "  pp<-PP.test(data[,i])\n",
    "  pptab<-rbind(pptab,pp$p.value)\n",
    "}\n",
    "pptab"
   ]
  },
  {
   "cell_type": "code",
   "execution_count": 9,
   "id": "a75bd12c",
   "metadata": {},
   "outputs": [
    {
     "data": {
      "image/png": "[encoded data removed]",
      "text/plain": [
       "plot without title"
      ]
     },
     "metadata": {
      "image/png": {
       "height": 420,
       "width": 420
      }
     },
     "output_type": "display_data"
    },
    {
     "data": {
      "image/png": "[encoded data removed]",
      "text/plain": [
       "plot without title"
      ]
     },
     "metadata": {
      "image/png": {
       "height": 420,
       "width": 420
      }
     },
     "output_type": "display_data"
    },
    {
     "data": {
      "image/png": "[encoded data removed]",
      "text/plain": [
       "plot without title"
      ]
     },
     "metadata": {
      "image/png": {
       "height": 420,
       "width": 420
      }
     },
     "output_type": "display_data"
    },
    {
     "data": {
      "image/png": "[encoded data removed]",
      "text/plain": [
       "plot without title"
      ]
     },
     "metadata": {
      "image/png": {
       "height": 420,
       "width": 420
      }
     },
     "output_type": "display_data"
    }
   ],
   "source": [
    "#plot IRFs: Make VAR (LOWER triangular: Order with most exogenous on left and most endogenous on right)\n",
    "#Loop to only make response of CA\n",
    "#Still default settings\n",
    "var<-data\n",
    "library(vars)\n",
    "var1<-VAR(var,type = c(\"const\"),lag.max = 4,ic=\"SC\")\n",
    "for(i in 1:4){\n",
    "  irf1<-irf(var1,impulse = colnames(var1$datamat[i]),response = colnames(var1$datamat[5]),n.ahead = 6,ortho = TRUE,ci=0.95,boot=TRUE,runs=100,cumulative = FALSE)\n",
    "plot(irf1)\n",
    "}"
   ]
  },
  {
   "cell_type": "code",
   "execution_count": 11,
   "id": "5ef2160d",
   "metadata": {},
   "outputs": [
    {
     "name": "stdout",
     "output_type": "stream",
     "text": [
      "    USY  USR  MXY MXM1   KFA\n",
      "1  6.23 0.41 7.40 0.08 85.88\n",
      "4  7.36 3.87 9.20 7.75 71.82\n",
      "8  7.44 3.96 9.18 7.74 71.68\n",
      "12 7.44 3.96 9.18 7.74 71.68\n"
     ]
    },
    {
     "data": {
      "image/png": "[encoded data removed]",
      "text/plain": [
       "Plot with title \"FEVD for KFA\""
      ]
     },
     "metadata": {
      "image/png": {
       "height": 420,
       "width": 420
      }
     },
     "output_type": "display_data"
    }
   ],
   "source": [
    "#Get FEVDs at 1,4,8,12-quarter horizons\n",
    "fevd1<-fevd(var1,n.ahead = 12)\n",
    "fevd2<-fevd1$KFA\n",
    "fevdtab<-round(100*fevd2[c(1,4,8,12),],2)\n",
    "rownames(fevdtab)<-c(1,4,8,12)\n",
    "print(fevdtab)\n",
    "plot(fevd1)"
   ]
  },
  {
   "cell_type": "code",
   "execution_count": 10,
   "id": "5ded6622",
   "metadata": {},
   "outputs": [
    {
     "name": "stdout",
     "output_type": "stream",
     "text": [
      "     Statistic p-val.\n",
      "USY      0.047  0.829\n",
      "USR      0.891  0.348\n",
      "MXY      1.869  0.175\n",
      "MXM1     4.809  0.031\n"
     ]
    },
    {
     "data": {
      "image/png": "[encoded data removed]",
      "text/plain": [
       "Plot with title \"MXM1\""
      ]
     },
     "metadata": {
      "image/png": {
       "height": 420,
       "width": 420
      }
     },
     "output_type": "display_data"
    }
   ],
   "source": [
    "#Granger Causality tests: I make pairwise vars, then a nice table\n",
    "gctab<-NULL\n",
    "var<-data\n",
    "library(vars)\n",
    "var1<-VAR(var,type = c(\"const\"),lag.max = 4,ic=\"SC\")\n",
    "for(i in 1:4){\n",
    "   var2<-VAR(var[,c(i,5)],type = c(\"const\"),lag.max = 4,ic=\"SC\")\n",
    "  gc<-causality(var2,cause = colnames(var1$datamat[i]))\n",
    "  gc1<-cbind(as.numeric(gc$Granger$statistic),gc$Granger$p.value)\n",
    "  gctab<-rbind(gctab,gc1)\n",
    "}\n",
    "colnames(gctab)<-c(\"Statistic\",\"p-val.\")\n",
    "rownames(gctab)<-colnames(var1$datamat[c(1:4)])\n",
    "gctab<-round(gctab,3)\n",
    "print(gctab)\n",
    "\n",
    "#Here I plot my own IRFs!\n",
    "irfx<-c(0:6)\n",
    "par(mfrow=c(2,2))\n",
    "for(i in 1:4){\n",
    "  irf1<-irf(var1,impulse = colnames(var1$datamat[i]),response = colnames(var1$datamat[5]),n.ahead = 6,ortho = TRUE,ci=0.95,boot=TRUE,runs=100,cumulative = FALSE)\n",
    "  volirf1<-unlist(irf1[1]$irf[1])\n",
    "  volirf1l<-unlist(irf1[2]$Lower[1])\n",
    "  volirf1u<-unlist(irf1[3]$Upper[1])\n",
    "  \n",
    "  #par(new=FALSE)\n",
    "  plot(irfx,volirf1,type=\"l\",lwd=2,ylab=\"\",xlab=\"\",cex.lab=2, ylim=1.2*c(min(volirf1l),max(volirf1u)),main=colnames(var1$datamat[i]))\n",
    "  par(new=TRUE)\n",
    "  plot(irfx,volirf1l,type=\"l\",lwd=1,ylab=\"\",xlab=\"\",lty=4,ylim=1.2*c(min(volirf1l),max(volirf1u)))\n",
    "  par(new=TRUE)\n",
    "  plot(irfx,volirf1u,type=\"l\",lwd=1,ylab=\"\",xlab=\"\",lty=4,ylim=1.2*c(min(volirf1l),max(volirf1u)))\n",
    "  abline(h=0,lty=2,lwd=1.5)\n",
    "  }"
   ]
  },
  {
   "cell_type": "markdown",
   "id": "fb25658c",
   "metadata": {},
   "source": [
    "# Web"
   ]
  },
  {
   "cell_type": "markdown",
   "id": "1ab37ed6",
   "metadata": {},
   "source": [
    "$$ \n",
    "\\begin{pmatrix} y_{1,t}\\\\ y_{2,t} \\end{pmatrix} =\n",
    "\\begin{bmatrix} -0.3 & -0.4 \\\\ 0.6 & 0.5 \\end{bmatrix} \\begin{pmatrix} y_{1,t-1} \\\\ y_{2,t-1} \\end{pmatrix} +\n",
    "\\begin{bmatrix} -0.1 & 0.1 \\\\ -0.2 & 0.05 \\end{bmatrix} \\begin{pmatrix} y_{1,t-2} \\\\ y_{2,t-2} \\end{pmatrix} +\n",
    "\\begin{pmatrix} \\epsilon_{1t} \\\\ \\epsilon_{2t} \\end{pmatrix}\n",
    "$$"
   ]
  },
  {
   "cell_type": "code",
   "execution_count": 15,
   "id": "e510fef4",
   "metadata": {},
   "outputs": [
    {
     "data": {
      "image/png": "[encoded data removed]",
      "text/plain": [
       "plot without title"
      ]
     },
     "metadata": {
      "image/png": {
       "height": 420,
       "width": 420
      }
     },
     "output_type": "display_data"
    }
   ],
   "source": [
    "set.seed(123) # Reset random number generator for reasons of reproducability\n",
    "\n",
    "# Generate sample\n",
    "t <- 200 # Number of time series observations\n",
    "k <- 2 # Number of endogenous variables\n",
    "p <- 2 # Number of lags\n",
    "\n",
    "# Generate coefficient matrices\n",
    "A.1 <- matrix(c(-.3, .6, -.4, .5), k) # Coefficient matrix of lag 1\n",
    "A.2 <- matrix(c(-.1, -.2, .1, .05), k) # Coefficient matrix of lag 2\n",
    "A <- cbind(A.1, A.2) # Companion form of the coefficient matrices\n",
    "\n",
    "# Generate series\n",
    "series <- matrix(0, k, t + 2*p) # Raw series with zeros\n",
    "for (i in (p + 1):(t + 2*p)){ # Generate series with e ~ N(0,0.5)\n",
    "  series[, i] <- A.1%*%series[, i-1] + A.2%*%series[, i-2] + rnorm(k, 0, .5)\n",
    "}\n",
    "\n",
    "series <- ts(t(series[, -(1:p)])) # Convert to time series format\n",
    "names <- c(\"V1\", \"V2\") # Rename variables\n",
    "\n",
    "plot.ts(series) # Plot the series"
   ]
  },
  {
   "cell_type": "code",
   "execution_count": 16,
   "id": "2357946c",
   "metadata": {},
   "outputs": [],
   "source": [
    "var.1 <- VAR(series, 2, type = \"none\") # Estimate the model"
   ]
  },
  {
   "cell_type": "code",
   "execution_count": 17,
   "id": "cb46612c",
   "metadata": {},
   "outputs": [],
   "source": [
    "var.aic <- VAR(series, type = \"none\", lag.max = 5, ic = \"AIC\")"
   ]
  },
  {
   "cell_type": "code",
   "execution_count": 18,
   "id": "4066932b",
   "metadata": {},
   "outputs": [
    {
     "data": {
      "text/plain": [
       "\n",
       "VAR Estimation Results:\n",
       "========================= \n",
       "Endogenous variables: Series.1, Series.2 \n",
       "Deterministic variables: none \n",
       "Sample size: 200 \n",
       "Log Likelihood: -266.065 \n",
       "Roots of the characteristic polynomial:\n",
       "0.6611 0.6611 0.4473 0.03778\n",
       "Call:\n",
       "VAR(y = series, type = \"none\", lag.max = 5, ic = \"AIC\")\n",
       "\n",
       "\n",
       "Estimation results for equation Series.1: \n",
       "========================================= \n",
       "Series.1 = Series.1.l1 + Series.2.l1 + Series.1.l2 + Series.2.l2 \n",
       "\n",
       "            Estimate Std. Error t value Pr(>|t|)    \n",
       "Series.1.l1 -0.19750    0.06894  -2.865  0.00463 ** \n",
       "Series.2.l1 -0.32015    0.06601  -4.850 2.51e-06 ***\n",
       "Series.1.l2 -0.23210    0.07586  -3.060  0.00252 ** \n",
       "Series.2.l2  0.04687    0.06478   0.724  0.47018    \n",
       "---\n",
       "Signif. codes:  0 '***' 0.001 '**' 0.01 '*' 0.05 '.' 0.1 ' ' 1\n",
       "\n",
       "\n",
       "Residual standard error: 0.4638 on 196 degrees of freedom\n",
       "Multiple R-Squared: 0.2791,\tAdjusted R-squared: 0.2644 \n",
       "F-statistic: 18.97 on 4 and 196 DF,  p-value: 3.351e-13 \n",
       "\n",
       "\n",
       "Estimation results for equation Series.2: \n",
       "========================================= \n",
       "Series.2 = Series.1.l1 + Series.2.l1 + Series.1.l2 + Series.2.l2 \n",
       "\n",
       "            Estimate Std. Error t value Pr(>|t|)    \n",
       "Series.1.l1  0.67381    0.07314   9.213  < 2e-16 ***\n",
       "Series.2.l1  0.34136    0.07004   4.874 2.25e-06 ***\n",
       "Series.1.l2 -0.18430    0.08048  -2.290   0.0231 *  \n",
       "Series.2.l2  0.06903    0.06873   1.004   0.3164    \n",
       "---\n",
       "Signif. codes:  0 '***' 0.001 '**' 0.01 '*' 0.05 '.' 0.1 ' ' 1\n",
       "\n",
       "\n",
       "Residual standard error: 0.4921 on 196 degrees of freedom\n",
       "Multiple R-Squared: 0.3574,\tAdjusted R-squared: 0.3443 \n",
       "F-statistic: 27.26 on 4 and 196 DF,  p-value: < 2.2e-16 \n",
       "\n",
       "\n",
       "\n",
       "Covariance matrix of residuals:\n",
       "         Series.1 Series.2\n",
       "Series.1  0.21417 -0.03116\n",
       "Series.2 -0.03116  0.24154\n",
       "\n",
       "Correlation matrix of residuals:\n",
       "         Series.1 Series.2\n",
       "Series.1    1.000   -0.137\n",
       "Series.2   -0.137    1.000\n",
       "\n"
      ]
     },
     "metadata": {},
     "output_type": "display_data"
    }
   ],
   "source": [
    "summary(var.aic)"
   ]
  },
  {
   "cell_type": "code",
   "execution_count": 19,
   "id": "1f902f92",
   "metadata": {},
   "outputs": [
    {
     "data": {
      "text/html": [
       "<table class=\"dataframe\">\n",
       "<caption>A matrix: 2 × 4 of type dbl</caption>\n",
       "<tbody>\n",
       "\t<tr><td>-0.3</td><td>-0.4</td><td>-0.1</td><td>0.10</td></tr>\n",
       "\t<tr><td> 0.6</td><td> 0.5</td><td>-0.2</td><td>0.05</td></tr>\n",
       "</tbody>\n",
       "</table>\n"
      ],
      "text/latex": [
       "A matrix: 2 × 4 of type dbl\n",
       "\\begin{tabular}{llll}\n",
       "\t -0.3 & -0.4 & -0.1 & 0.10\\\\\n",
       "\t  0.6 &  0.5 & -0.2 & 0.05\\\\\n",
       "\\end{tabular}\n"
      ],
      "text/markdown": [
       "\n",
       "A matrix: 2 × 4 of type dbl\n",
       "\n",
       "| -0.3 | -0.4 | -0.1 | 0.10 |\n",
       "|  0.6 |  0.5 | -0.2 | 0.05 |\n",
       "\n"
      ],
      "text/plain": [
       "     [,1] [,2] [,3] [,4]\n",
       "[1,] -0.3 -0.4 -0.1 0.10\n",
       "[2,]  0.6  0.5 -0.2 0.05"
      ]
     },
     "metadata": {},
     "output_type": "display_data"
    }
   ],
   "source": [
    "A"
   ]
  },
  {
   "cell_type": "code",
   "execution_count": 20,
   "id": "3990c7d3",
   "metadata": {},
   "outputs": [
    {
     "data": {
      "text/html": [
       "<table class=\"dataframe\">\n",
       "<caption>A matrix: 2 × 4 of type dbl</caption>\n",
       "<thead>\n",
       "\t<tr><th scope=col>Series.1.l1</th><th scope=col>Series.2.l1</th><th scope=col>Series.1.l2</th><th scope=col>Series.2.l2</th></tr>\n",
       "</thead>\n",
       "<tbody>\n",
       "\t<tr><td>-0.20</td><td>-0.32</td><td>-0.23</td><td>0.05</td></tr>\n",
       "\t<tr><td> 0.67</td><td> 0.34</td><td>-0.18</td><td>0.07</td></tr>\n",
       "</tbody>\n",
       "</table>\n"
      ],
      "text/latex": [
       "A matrix: 2 × 4 of type dbl\n",
       "\\begin{tabular}{llll}\n",
       " Series.1.l1 & Series.2.l1 & Series.1.l2 & Series.2.l2\\\\\n",
       "\\hline\n",
       "\t -0.20 & -0.32 & -0.23 & 0.05\\\\\n",
       "\t  0.67 &  0.34 & -0.18 & 0.07\\\\\n",
       "\\end{tabular}\n"
      ],
      "text/markdown": [
       "\n",
       "A matrix: 2 × 4 of type dbl\n",
       "\n",
       "| Series.1.l1 | Series.2.l1 | Series.1.l2 | Series.2.l2 |\n",
       "|---|---|---|---|\n",
       "| -0.20 | -0.32 | -0.23 | 0.05 |\n",
       "|  0.67 |  0.34 | -0.18 | 0.07 |\n",
       "\n"
      ],
      "text/plain": [
       "     Series.1.l1 Series.2.l1 Series.1.l2 Series.2.l2\n",
       "[1,] -0.20       -0.32       -0.23       0.05       \n",
       "[2,]  0.67        0.34       -0.18       0.07       "
      ]
     },
     "metadata": {},
     "output_type": "display_data"
    }
   ],
   "source": [
    "# Extract coefficients, standard errors etc. from the object\n",
    "# produced by the VAR function\n",
    "est_coefs <- coef(var.aic)\n",
    "\n",
    "# Extract only the coefficients for both dependend variables\n",
    "# and combine them to a single matrix\n",
    "est_coefs <- rbind(est_coefs[[1]][, 1], est_coefs[[2]][, 1]) \n",
    "\n",
    "# Print the rounded estimates in the console\n",
    "round(est_coefs, 2)"
   ]
  },
  {
   "cell_type": "code",
   "execution_count": 21,
   "id": "7a8cf7f2",
   "metadata": {},
   "outputs": [
    {
     "data": {
      "image/png": "[encoded data removed]",
      "text/plain": [
       "plot without title"
      ]
     },
     "metadata": {
      "image/png": {
       "height": 420,
       "width": 420
      }
     },
     "output_type": "display_data"
    }
   ],
   "source": [
    "# Calculate the IRF\n",
    "ir.1 <- irf(var.1, impulse = \"Series.1\", response = \"Series.2\", n.ahead = 20, ortho = FALSE)\n",
    "\n",
    "# Plot the IRF\n",
    "plot(ir.1)"
   ]
  },
  {
   "cell_type": "code",
   "execution_count": 22,
   "id": "d4eddd9f",
   "metadata": {},
   "outputs": [
    {
     "data": {
      "image/png": "[encoded data removed]",
      "text/plain": [
       "plot without title"
      ]
     },
     "metadata": {
      "image/png": {
       "height": 420,
       "width": 420
      }
     },
     "output_type": "display_data"
    }
   ],
   "source": [
    "# Calculate impulse response\n",
    "ir.2 <- irf(var.1,impulse=\"Series.1\",response=\"Series.2\",n.ahead = 20,ortho = FALSE,\n",
    "cumulative = TRUE)\n",
    "\n",
    "# Plot\n",
    "plot(ir.2)"
   ]
  },
  {
   "cell_type": "code",
   "execution_count": 23,
   "id": "e0ae63b9",
   "metadata": {},
   "outputs": [
    {
     "data": {
      "image/png": "[encoded data removed]",
      "text/plain": [
       "plot without title"
      ]
     },
     "metadata": {
      "image/png": {
       "height": 420,
       "width": 420
      }
     },
     "output_type": "display_data"
    }
   ],
   "source": [
    "# Reset random number generator for reproducibility\n",
    "set.seed(24579)\n",
    "\n",
    "tt <- 500 # Number of time series observations\n",
    "\n",
    "# Coefficient matrix\n",
    "A_1 <- matrix(c(0.3, 0, 0.24,\n",
    "                0.12, 0.3, 0.24,\n",
    "                0.69, 0.48, 0.3), 3)\n",
    "\n",
    "# Structural coefficients\n",
    "B <- diag(1, 3)\n",
    "B[lower.tri(B)] <- c(-0.14, -0.06, 0.39)\n",
    "\n",
    "# Generate series\n",
    "series <- matrix(rnorm(3, 0, 1), 3, tt + 1) # Raw series with zeros\n",
    "for (i in 2:(tt + 1)){\n",
    "  series[, i] <- A_1 %*% series[, i - 1] +  B %*% rnorm(3, 0, 1)\n",
    "}\n",
    "\n",
    "series <- ts(t(series)) # Convert to time series object\n",
    "dimnames(series)[[2]] <- c(\"S1\", \"S2\", \"S3\") # Rename variables\n",
    "\n",
    "# Plot the series\n",
    "plot.ts(series, main = \"Artificial time series\")\n"
   ]
  },
  {
   "cell_type": "code",
   "execution_count": 24,
   "id": "8719a756",
   "metadata": {},
   "outputs": [
    {
     "data": {
      "text/plain": [
       "\n",
       "VAR Estimation Results:\n",
       "======================= \n",
       "\n",
       "Estimated coefficients for equation S1: \n",
       "======================================= \n",
       "Call:\n",
       "S1 = S1.l1 + S2.l1 + S3.l1 \n",
       "\n",
       "    S1.l1     S2.l1     S3.l1 \n",
       "0.3288079 0.1124078 0.6809865 \n",
       "\n",
       "\n",
       "Estimated coefficients for equation S2: \n",
       "======================================= \n",
       "Call:\n",
       "S2 = S1.l1 + S2.l1 + S3.l1 \n",
       "\n",
       "       S1.l1        S2.l1        S3.l1 \n",
       "-0.001530688  0.289578440  0.512701274 \n",
       "\n",
       "\n",
       "Estimated coefficients for equation S3: \n",
       "======================================= \n",
       "Call:\n",
       "S3 = S1.l1 + S2.l1 + S3.l1 \n",
       "\n",
       "    S1.l1     S2.l1     S3.l1 \n",
       "0.2401861 0.2519319 0.3186145 \n",
       "\n"
      ]
     },
     "metadata": {},
     "output_type": "display_data"
    }
   ],
   "source": [
    "# Estimate reduced form VAR\n",
    "var_est <- VAR(series, p = 1, type = \"none\")\n",
    "\n",
    "var_est"
   ]
  },
  {
   "cell_type": "code",
   "execution_count": 25,
   "id": "3002bff4",
   "metadata": {},
   "outputs": [
    {
     "data": {
      "text/plain": [
       "\n",
       "SVAR Estimation Results:\n",
       "======================== \n",
       "\n",
       "\n",
       "Estimated A matrix:\n",
       "        S1      S2 S3\n",
       "S1 1.00000  0.0000  0\n",
       "S2 0.18177  1.0000  0\n",
       "S3 0.05078 -0.3132  1"
      ]
     },
     "metadata": {},
     "output_type": "display_data"
    }
   ],
   "source": [
    "# Estimate structural coefficients\n",
    "a <- diag(1, 3)\n",
    "a[lower.tri(a)] <- NA\n",
    "\n",
    "svar_est_a <- SVAR(var_est, Amat = a, max.iter = 1000)\n",
    "\n",
    "svar_est_a"
   ]
  },
  {
   "cell_type": "code",
   "execution_count": 26,
   "id": "00d976fa",
   "metadata": {},
   "outputs": [
    {
     "data": {
      "text/html": [
       "<table class=\"dataframe\">\n",
       "<caption>A matrix: 3 × 3 of type dbl</caption>\n",
       "<thead>\n",
       "\t<tr><th></th><th scope=col>S1</th><th scope=col>S2</th><th scope=col>S3</th></tr>\n",
       "</thead>\n",
       "<tbody>\n",
       "\t<tr><th scope=row>S1</th><td> 1.0000000</td><td>0.0000000</td><td>0</td></tr>\n",
       "\t<tr><th scope=row>S2</th><td>-0.1817747</td><td>1.0000000</td><td>0</td></tr>\n",
       "\t<tr><th scope=row>S3</th><td>-0.1077103</td><td>0.3131988</td><td>1</td></tr>\n",
       "</tbody>\n",
       "</table>\n"
      ],
      "text/latex": [
       "A matrix: 3 × 3 of type dbl\n",
       "\\begin{tabular}{r|lll}\n",
       "  & S1 & S2 & S3\\\\\n",
       "\\hline\n",
       "\tS1 &  1.0000000 & 0.0000000 & 0\\\\\n",
       "\tS2 & -0.1817747 & 1.0000000 & 0\\\\\n",
       "\tS3 & -0.1077103 & 0.3131988 & 1\\\\\n",
       "\\end{tabular}\n"
      ],
      "text/markdown": [
       "\n",
       "A matrix: 3 × 3 of type dbl\n",
       "\n",
       "| <!--/--> | S1 | S2 | S3 |\n",
       "|---|---|---|---|\n",
       "| S1 |  1.0000000 | 0.0000000 | 0 |\n",
       "| S2 | -0.1817747 | 1.0000000 | 0 |\n",
       "| S3 | -0.1077103 | 0.3131988 | 1 |\n",
       "\n"
      ],
      "text/plain": [
       "   S1         S2        S3\n",
       "S1  1.0000000 0.0000000 0 \n",
       "S2 -0.1817747 1.0000000 0 \n",
       "S3 -0.1077103 0.3131988 1 "
      ]
     },
     "metadata": {},
     "output_type": "display_data"
    }
   ],
   "source": [
    "solve(svar_est_a$A)\n"
   ]
  },
  {
   "cell_type": "code",
   "execution_count": 27,
   "id": "5068e14a",
   "metadata": {},
   "outputs": [
    {
     "data": {
      "text/html": [
       "<table class=\"dataframe\">\n",
       "<caption>A matrix: 3 × 3 of type dbl</caption>\n",
       "<thead>\n",
       "\t<tr><th></th><th scope=col>S1</th><th scope=col>S2</th><th scope=col>S3</th></tr>\n",
       "</thead>\n",
       "<tbody>\n",
       "\t<tr><th scope=row>S1</th><td>0.00000000</td><td>0.00000000</td><td>0</td></tr>\n",
       "\t<tr><th scope=row>S2</th><td>0.04472136</td><td>0.00000000</td><td>0</td></tr>\n",
       "\t<tr><th scope=row>S3</th><td>0.04545420</td><td>0.04472136</td><td>0</td></tr>\n",
       "</tbody>\n",
       "</table>\n"
      ],
      "text/latex": [
       "A matrix: 3 × 3 of type dbl\n",
       "\\begin{tabular}{r|lll}\n",
       "  & S1 & S2 & S3\\\\\n",
       "\\hline\n",
       "\tS1 & 0.00000000 & 0.00000000 & 0\\\\\n",
       "\tS2 & 0.04472136 & 0.00000000 & 0\\\\\n",
       "\tS3 & 0.04545420 & 0.04472136 & 0\\\\\n",
       "\\end{tabular}\n"
      ],
      "text/markdown": [
       "\n",
       "A matrix: 3 × 3 of type dbl\n",
       "\n",
       "| <!--/--> | S1 | S2 | S3 |\n",
       "|---|---|---|---|\n",
       "| S1 | 0.00000000 | 0.00000000 | 0 |\n",
       "| S2 | 0.04472136 | 0.00000000 | 0 |\n",
       "| S3 | 0.04545420 | 0.04472136 | 0 |\n",
       "\n"
      ],
      "text/plain": [
       "   S1         S2         S3\n",
       "S1 0.00000000 0.00000000 0 \n",
       "S2 0.04472136 0.00000000 0 \n",
       "S3 0.04545420 0.04472136 0 "
      ]
     },
     "metadata": {},
     "output_type": "display_data"
    }
   ],
   "source": [
    "svar_est_a$Ase"
   ]
  },
  {
   "cell_type": "code",
   "execution_count": 28,
   "id": "761968f7",
   "metadata": {},
   "outputs": [
    {
     "data": {
      "text/plain": [
       "\n",
       "SVAR Estimation Results:\n",
       "======================== \n",
       "\n",
       "\n",
       "Estimated B matrix:\n",
       "        S1     S2 S3\n",
       "S1  1.0000 0.0000  0\n",
       "S2 -0.1818 1.0000  0\n",
       "S3 -0.1077 0.3132  1"
      ]
     },
     "metadata": {},
     "output_type": "display_data"
    }
   ],
   "source": [
    "# Create structural matrix with restrictions\n",
    "b <- diag(1, 3)\n",
    "b[lower.tri(b)] <- NA\n",
    "\n",
    "# Estimate\n",
    "svar_est_b <- SVAR(var_est, Bmat = b)\n",
    "\n",
    "# Show result\n",
    "svar_est_b"
   ]
  },
  {
   "cell_type": "code",
   "execution_count": 29,
   "id": "c647ce4d",
   "metadata": {},
   "outputs": [
    {
     "data": {
      "text/html": [
       "<table class=\"dataframe\">\n",
       "<caption>A matrix: 3 × 3 of type dbl</caption>\n",
       "<thead>\n",
       "\t<tr><th></th><th scope=col>S1</th><th scope=col>S2</th><th scope=col>S3</th></tr>\n",
       "</thead>\n",
       "<tbody>\n",
       "\t<tr><th scope=row>S1</th><td>0.00000000</td><td>0.00000000</td><td>0</td></tr>\n",
       "\t<tr><th scope=row>S2</th><td>0.04472136</td><td>0.00000000</td><td>0</td></tr>\n",
       "\t<tr><th scope=row>S3</th><td>0.04686349</td><td>0.04472136</td><td>0</td></tr>\n",
       "</tbody>\n",
       "</table>\n"
      ],
      "text/latex": [
       "A matrix: 3 × 3 of type dbl\n",
       "\\begin{tabular}{r|lll}\n",
       "  & S1 & S2 & S3\\\\\n",
       "\\hline\n",
       "\tS1 & 0.00000000 & 0.00000000 & 0\\\\\n",
       "\tS2 & 0.04472136 & 0.00000000 & 0\\\\\n",
       "\tS3 & 0.04686349 & 0.04472136 & 0\\\\\n",
       "\\end{tabular}\n"
      ],
      "text/markdown": [
       "\n",
       "A matrix: 3 × 3 of type dbl\n",
       "\n",
       "| <!--/--> | S1 | S2 | S3 |\n",
       "|---|---|---|---|\n",
       "| S1 | 0.00000000 | 0.00000000 | 0 |\n",
       "| S2 | 0.04472136 | 0.00000000 | 0 |\n",
       "| S3 | 0.04686349 | 0.04472136 | 0 |\n",
       "\n"
      ],
      "text/plain": [
       "   S1         S2         S3\n",
       "S1 0.00000000 0.00000000 0 \n",
       "S2 0.04472136 0.00000000 0 \n",
       "S3 0.04686349 0.04472136 0 "
      ]
     },
     "metadata": {},
     "output_type": "display_data"
    }
   ],
   "source": [
    "svar_est_b$Bse"
   ]
  }
 ],
 "metadata": {
  "kernelspec": {
   "display_name": "R",
   "language": "R",
   "name": "ir"
  },
  "language_info": {
   "codemirror_mode": "r",
   "file_extension": ".r",
   "mimetype": "text/x-r-source",
   "name": "R",
   "pygments_lexer": "r",
   "version": "4.3.1"
  }
 },
 "nbformat": 4,
 "nbformat_minor": 5
}
